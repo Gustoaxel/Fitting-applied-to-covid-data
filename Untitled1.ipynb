{
 "cells": [
  {
   "cell_type": "code",
   "execution_count": 1,
   "metadata": {},
   "outputs": [],
   "source": [
    "import numpy as np \n",
    "import matplotlib.pyplot as plt \n",
    "import pandas as pd \n",
    "from scipy.integrate import odeint\n",
    "from scipy.stats import linregress as lr\n",
    "from scipy.optimize import minimize\n",
    "from sklearn.model_selection import train_test_split"
   ]
  },
  {
   "cell_type": "markdown",
   "metadata": {},
   "source": [
    "On va étudier le covid sur 2 critères : le nombre de cas avéré ainsi que le nombre de mort. \n",
    "rappel des dates importantes en france : \n",
    "9 mars interdiction des rassemblement de plus de 1000 personnes\n",
    "14 mars stade 3 \n",
    "17 mars midi debut du confinement "
   ]
  },
  {
   "cell_type": "markdown",
   "metadata": {},
   "source": [
    "# Pré processing de la base de données "
   ]
  },
  {
   "cell_type": "code",
   "execution_count": 103,
   "metadata": {},
   "outputs": [
    {
     "data": {
      "text/html": [
       "<div>\n",
       "<style scoped>\n",
       "    .dataframe tbody tr th:only-of-type {\n",
       "        vertical-align: middle;\n",
       "    }\n",
       "\n",
       "    .dataframe tbody tr th {\n",
       "        vertical-align: top;\n",
       "    }\n",
       "\n",
       "    .dataframe thead th {\n",
       "        text-align: right;\n",
       "    }\n",
       "</style>\n",
       "<table border=\"1\" class=\"dataframe\">\n",
       "  <thead>\n",
       "    <tr style=\"text-align: right;\">\n",
       "      <th></th>\n",
       "      <th>dateRep</th>\n",
       "      <th>day</th>\n",
       "      <th>month</th>\n",
       "      <th>year</th>\n",
       "      <th>cases</th>\n",
       "      <th>deaths</th>\n",
       "      <th>countriesAndTerritories</th>\n",
       "      <th>geoId</th>\n",
       "      <th>countryterritoryCode</th>\n",
       "      <th>popData2018</th>\n",
       "      <th>continentExp</th>\n",
       "    </tr>\n",
       "  </thead>\n",
       "  <tbody>\n",
       "    <tr>\n",
       "      <th>0</th>\n",
       "      <td>29/05/2020</td>\n",
       "      <td>29</td>\n",
       "      <td>5</td>\n",
       "      <td>2020</td>\n",
       "      <td>580</td>\n",
       "      <td>8</td>\n",
       "      <td>Afghanistan</td>\n",
       "      <td>AF</td>\n",
       "      <td>AFG</td>\n",
       "      <td>37172386.0</td>\n",
       "      <td>Asia</td>\n",
       "    </tr>\n",
       "    <tr>\n",
       "      <th>1</th>\n",
       "      <td>28/05/2020</td>\n",
       "      <td>28</td>\n",
       "      <td>5</td>\n",
       "      <td>2020</td>\n",
       "      <td>625</td>\n",
       "      <td>7</td>\n",
       "      <td>Afghanistan</td>\n",
       "      <td>AF</td>\n",
       "      <td>AFG</td>\n",
       "      <td>37172386.0</td>\n",
       "      <td>Asia</td>\n",
       "    </tr>\n",
       "    <tr>\n",
       "      <th>2</th>\n",
       "      <td>27/05/2020</td>\n",
       "      <td>27</td>\n",
       "      <td>5</td>\n",
       "      <td>2020</td>\n",
       "      <td>658</td>\n",
       "      <td>1</td>\n",
       "      <td>Afghanistan</td>\n",
       "      <td>AF</td>\n",
       "      <td>AFG</td>\n",
       "      <td>37172386.0</td>\n",
       "      <td>Asia</td>\n",
       "    </tr>\n",
       "    <tr>\n",
       "      <th>3</th>\n",
       "      <td>26/05/2020</td>\n",
       "      <td>26</td>\n",
       "      <td>5</td>\n",
       "      <td>2020</td>\n",
       "      <td>591</td>\n",
       "      <td>1</td>\n",
       "      <td>Afghanistan</td>\n",
       "      <td>AF</td>\n",
       "      <td>AFG</td>\n",
       "      <td>37172386.0</td>\n",
       "      <td>Asia</td>\n",
       "    </tr>\n",
       "    <tr>\n",
       "      <th>4</th>\n",
       "      <td>25/05/2020</td>\n",
       "      <td>25</td>\n",
       "      <td>5</td>\n",
       "      <td>2020</td>\n",
       "      <td>584</td>\n",
       "      <td>2</td>\n",
       "      <td>Afghanistan</td>\n",
       "      <td>AF</td>\n",
       "      <td>AFG</td>\n",
       "      <td>37172386.0</td>\n",
       "      <td>Asia</td>\n",
       "    </tr>\n",
       "  </tbody>\n",
       "</table>\n",
       "</div>"
      ],
      "text/plain": [
       "      dateRep  day  month  year  cases  deaths countriesAndTerritories geoId  \\\n",
       "0  29/05/2020   29      5  2020    580       8             Afghanistan    AF   \n",
       "1  28/05/2020   28      5  2020    625       7             Afghanistan    AF   \n",
       "2  27/05/2020   27      5  2020    658       1             Afghanistan    AF   \n",
       "3  26/05/2020   26      5  2020    591       1             Afghanistan    AF   \n",
       "4  25/05/2020   25      5  2020    584       2             Afghanistan    AF   \n",
       "\n",
       "  countryterritoryCode  popData2018 continentExp  \n",
       "0                  AFG   37172386.0         Asia  \n",
       "1                  AFG   37172386.0         Asia  \n",
       "2                  AFG   37172386.0         Asia  \n",
       "3                  AFG   37172386.0         Asia  \n",
       "4                  AFG   37172386.0         Asia  "
      ]
     },
     "execution_count": 103,
     "metadata": {},
     "output_type": "execute_result"
    }
   ],
   "source": [
    "df = pd.read_csv('./Donnees')\n",
    "df.shape # 17367 lignes mais on va prendre que les cas francais \n",
    "df.head()  # countriesAndTerritories nom de la colonne a filtrer\n",
    "dfFr = df.loc[df['countriesAndTerritories']==\"France\",:]\n",
    "dfFr.tail() # Nos données s'étende du 31 decembre 2019 au 16 mai 2020\n",
    "dfFr.head()\n",
    "dfFr = dfFr.sort_values(by=['year','month','day'])\n",
    "df.head()"
   ]
  },
  {
   "cell_type": "markdown",
   "metadata": {},
   "source": [
    "Nous partons d'une base de données mondiales et nous selectionnons unisquement les données francaise. DE plus nous rangeons les données dans un ordre chronologique. "
   ]
  },
  {
   "cell_type": "code",
   "execution_count": 105,
   "metadata": {},
   "outputs": [
    {
     "data": {
      "text/plain": [
       "Text(0.5, 1.0, 'Data as a function of time ')"
      ]
     },
     "execution_count": 105,
     "metadata": {},
     "output_type": "execute_result"
    },
    {
     "data": {
      "image/png": "[encoded data removed]",
      "text/plain": [
       "<Figure size 432x288 with 1 Axes>"
      ]
     },
     "metadata": {
      "needs_background": "light"
     },
     "output_type": "display_data"
    }
   ],
   "source": [
    "dfFr_plein = dfFr[['dateRep' , 'deaths' , 'cases']]\n",
    "dfFr_plein.shape  # 138 lignes \n",
    "\n",
    "plt.scatter(np.linspace(0,len(dfFr_plein)-1 , len(dfFr_plein)) ,dfFr_plein['deaths'] , label = 'Death')\n",
    "plt.scatter(np.linspace(0,len(dfFr_plein)-1 , len(dfFr_plein)) ,dfFr_plein['cases'] , label = 'Cases')\n",
    "plt.xlabel('temps') \n",
    "plt.legend()\n",
    "plt.title('Data as a function of time ')\n"
   ]
  },
  {
   "cell_type": "markdown",
   "metadata": {},
   "source": [
    "Le profil semble assez similaire entre les 2 types de données a savoir le nombre de cas et le nombre de mort maintenant on remarque imédiatement que sur toute la durée de l'épidemis nous n'avons pas un profil expo. "
   ]
  },
  {
   "cell_type": "markdown",
   "metadata": {},
   "source": [
    "## Nettoyage des données car trop de 0 \n",
    "On nettoie pour pouvoir creer notre modèle "
   ]
  },
  {
   "cell_type": "code",
   "execution_count": 4,
   "metadata": {},
   "outputs": [
    {
     "data": {
      "text/html": [
       "<div>\n",
       "<style scoped>\n",
       "    .dataframe tbody tr th:only-of-type {\n",
       "        vertical-align: middle;\n",
       "    }\n",
       "\n",
       "    .dataframe tbody tr th {\n",
       "        vertical-align: top;\n",
       "    }\n",
       "\n",
       "    .dataframe thead th {\n",
       "        text-align: right;\n",
       "    }\n",
       "</style>\n",
       "<table border=\"1\" class=\"dataframe\">\n",
       "  <thead>\n",
       "    <tr style=\"text-align: right;\">\n",
       "      <th></th>\n",
       "      <th>dateRep</th>\n",
       "      <th>day</th>\n",
       "      <th>month</th>\n",
       "      <th>year</th>\n",
       "      <th>cases</th>\n",
       "      <th>deaths</th>\n",
       "      <th>countriesAndTerritories</th>\n",
       "      <th>geoId</th>\n",
       "      <th>countryterritoryCode</th>\n",
       "      <th>popData2018</th>\n",
       "      <th>continentExp</th>\n",
       "    </tr>\n",
       "  </thead>\n",
       "  <tbody>\n",
       "    <tr>\n",
       "      <th>6706</th>\n",
       "      <td>03/03/2020</td>\n",
       "      <td>3</td>\n",
       "      <td>3</td>\n",
       "      <td>2020</td>\n",
       "      <td>48</td>\n",
       "      <td>1</td>\n",
       "      <td>France</td>\n",
       "      <td>FR</td>\n",
       "      <td>FRA</td>\n",
       "      <td>66987244.0</td>\n",
       "      <td>Europe</td>\n",
       "    </tr>\n",
       "    <tr>\n",
       "      <th>6705</th>\n",
       "      <td>04/03/2020</td>\n",
       "      <td>4</td>\n",
       "      <td>3</td>\n",
       "      <td>2020</td>\n",
       "      <td>34</td>\n",
       "      <td>1</td>\n",
       "      <td>France</td>\n",
       "      <td>FR</td>\n",
       "      <td>FRA</td>\n",
       "      <td>66987244.0</td>\n",
       "      <td>Europe</td>\n",
       "    </tr>\n",
       "    <tr>\n",
       "      <th>6703</th>\n",
       "      <td>06/03/2020</td>\n",
       "      <td>6</td>\n",
       "      <td>3</td>\n",
       "      <td>2020</td>\n",
       "      <td>138</td>\n",
       "      <td>3</td>\n",
       "      <td>France</td>\n",
       "      <td>FR</td>\n",
       "      <td>FRA</td>\n",
       "      <td>66987244.0</td>\n",
       "      <td>Europe</td>\n",
       "    </tr>\n",
       "    <tr>\n",
       "      <th>6702</th>\n",
       "      <td>07/03/2020</td>\n",
       "      <td>7</td>\n",
       "      <td>3</td>\n",
       "      <td>2020</td>\n",
       "      <td>190</td>\n",
       "      <td>2</td>\n",
       "      <td>France</td>\n",
       "      <td>FR</td>\n",
       "      <td>FRA</td>\n",
       "      <td>66987244.0</td>\n",
       "      <td>Europe</td>\n",
       "    </tr>\n",
       "    <tr>\n",
       "      <th>6701</th>\n",
       "      <td>08/03/2020</td>\n",
       "      <td>8</td>\n",
       "      <td>3</td>\n",
       "      <td>2020</td>\n",
       "      <td>103</td>\n",
       "      <td>1</td>\n",
       "      <td>France</td>\n",
       "      <td>FR</td>\n",
       "      <td>FRA</td>\n",
       "      <td>66987244.0</td>\n",
       "      <td>Europe</td>\n",
       "    </tr>\n",
       "  </tbody>\n",
       "</table>\n",
       "</div>"
      ],
      "text/plain": [
       "         dateRep  day  month  year  cases  deaths countriesAndTerritories  \\\n",
       "6706  03/03/2020    3      3  2020     48       1                  France   \n",
       "6705  04/03/2020    4      3  2020     34       1                  France   \n",
       "6703  06/03/2020    6      3  2020    138       3                  France   \n",
       "6702  07/03/2020    7      3  2020    190       2                  France   \n",
       "6701  08/03/2020    8      3  2020    103       1                  France   \n",
       "\n",
       "     geoId countryterritoryCode  popData2018 continentExp  \n",
       "6706    FR                  FRA   66987244.0       Europe  \n",
       "6705    FR                  FRA   66987244.0       Europe  \n",
       "6703    FR                  FRA   66987244.0       Europe  \n",
       "6702    FR                  FRA   66987244.0       Europe  \n",
       "6701    FR                  FRA   66987244.0       Europe  "
      ]
     },
     "execution_count": 4,
     "metadata": {},
     "output_type": "execute_result"
    }
   ],
   "source": [
    "dfFrd = dfFr.loc[(dfFr['deaths']!= 0) & (dfFr['month']!=2),:] \n",
    "dfFrd.head()"
   ]
  },
  {
   "cell_type": "markdown",
   "metadata": {},
   "source": [
    "Nous avons une base de données de 74 éléments s'étalant du 3 mars au 16 mai pour notre études des morts "
   ]
  },
  {
   "cell_type": "code",
   "execution_count": 5,
   "metadata": {},
   "outputs": [
    {
     "data": {
      "text/html": [
       "<div>\n",
       "<style scoped>\n",
       "    .dataframe tbody tr th:only-of-type {\n",
       "        vertical-align: middle;\n",
       "    }\n",
       "\n",
       "    .dataframe tbody tr th {\n",
       "        vertical-align: top;\n",
       "    }\n",
       "\n",
       "    .dataframe thead th {\n",
       "        text-align: right;\n",
       "    }\n",
       "</style>\n",
       "<table border=\"1\" class=\"dataframe\">\n",
       "  <thead>\n",
       "    <tr style=\"text-align: right;\">\n",
       "      <th></th>\n",
       "      <th>dateRep</th>\n",
       "      <th>day</th>\n",
       "      <th>month</th>\n",
       "      <th>year</th>\n",
       "      <th>cases</th>\n",
       "      <th>deaths</th>\n",
       "      <th>countriesAndTerritories</th>\n",
       "      <th>geoId</th>\n",
       "      <th>countryterritoryCode</th>\n",
       "      <th>popData2018</th>\n",
       "      <th>continentExp</th>\n",
       "    </tr>\n",
       "  </thead>\n",
       "  <tbody>\n",
       "    <tr>\n",
       "      <th>6712</th>\n",
       "      <td>26/02/2020</td>\n",
       "      <td>26</td>\n",
       "      <td>2</td>\n",
       "      <td>2020</td>\n",
       "      <td>2</td>\n",
       "      <td>0</td>\n",
       "      <td>France</td>\n",
       "      <td>FR</td>\n",
       "      <td>FRA</td>\n",
       "      <td>66987244.0</td>\n",
       "      <td>Europe</td>\n",
       "    </tr>\n",
       "    <tr>\n",
       "      <th>6711</th>\n",
       "      <td>27/02/2020</td>\n",
       "      <td>27</td>\n",
       "      <td>2</td>\n",
       "      <td>2020</td>\n",
       "      <td>3</td>\n",
       "      <td>1</td>\n",
       "      <td>France</td>\n",
       "      <td>FR</td>\n",
       "      <td>FRA</td>\n",
       "      <td>66987244.0</td>\n",
       "      <td>Europe</td>\n",
       "    </tr>\n",
       "    <tr>\n",
       "      <th>6710</th>\n",
       "      <td>28/02/2020</td>\n",
       "      <td>28</td>\n",
       "      <td>2</td>\n",
       "      <td>2020</td>\n",
       "      <td>21</td>\n",
       "      <td>0</td>\n",
       "      <td>France</td>\n",
       "      <td>FR</td>\n",
       "      <td>FRA</td>\n",
       "      <td>66987244.0</td>\n",
       "      <td>Europe</td>\n",
       "    </tr>\n",
       "    <tr>\n",
       "      <th>6709</th>\n",
       "      <td>29/02/2020</td>\n",
       "      <td>29</td>\n",
       "      <td>2</td>\n",
       "      <td>2020</td>\n",
       "      <td>19</td>\n",
       "      <td>0</td>\n",
       "      <td>France</td>\n",
       "      <td>FR</td>\n",
       "      <td>FRA</td>\n",
       "      <td>66987244.0</td>\n",
       "      <td>Europe</td>\n",
       "    </tr>\n",
       "    <tr>\n",
       "      <th>6708</th>\n",
       "      <td>01/03/2020</td>\n",
       "      <td>1</td>\n",
       "      <td>3</td>\n",
       "      <td>2020</td>\n",
       "      <td>43</td>\n",
       "      <td>0</td>\n",
       "      <td>France</td>\n",
       "      <td>FR</td>\n",
       "      <td>FRA</td>\n",
       "      <td>66987244.0</td>\n",
       "      <td>Europe</td>\n",
       "    </tr>\n",
       "  </tbody>\n",
       "</table>\n",
       "</div>"
      ],
      "text/plain": [
       "         dateRep  day  month  year  cases  deaths countriesAndTerritories  \\\n",
       "6712  26/02/2020   26      2  2020      2       0                  France   \n",
       "6711  27/02/2020   27      2  2020      3       1                  France   \n",
       "6710  28/02/2020   28      2  2020     21       0                  France   \n",
       "6709  29/02/2020   29      2  2020     19       0                  France   \n",
       "6708  01/03/2020    1      3  2020     43       0                  France   \n",
       "\n",
       "     geoId countryterritoryCode  popData2018 continentExp  \n",
       "6712    FR                  FRA   66987244.0       Europe  \n",
       "6711    FR                  FRA   66987244.0       Europe  \n",
       "6710    FR                  FRA   66987244.0       Europe  \n",
       "6709    FR                  FRA   66987244.0       Europe  \n",
       "6708    FR                  FRA   66987244.0       Europe  "
      ]
     },
     "execution_count": 5,
     "metadata": {},
     "output_type": "execute_result"
    }
   ],
   "source": [
    "dfFrc = dfFr.loc[(dfFr['cases']!=0)& (dfFr['month'].isin([2,3,4,5])) ,:] \n",
    "dfFrc = dfFrc[2:]\n",
    "dfFrc.head()\n",
    "#len(dfFrc)"
   ]
  },
  {
   "cell_type": "markdown",
   "metadata": {},
   "source": [
    "On a une base de données continue de 81 éléments du 26 fevrier au 16 mai pour notre études des cas positifs au covid"
   ]
  },
  {
   "cell_type": "markdown",
   "metadata": {},
   "source": [
    "## Approche par régression linéaire "
   ]
  },
  {
   "cell_type": "markdown",
   "metadata": {},
   "source": [
    "Nous linéarisons le problème en passant au log car on cherche une solution expo"
   ]
  },
  {
   "cell_type": "code",
   "execution_count": 7,
   "metadata": {},
   "outputs": [
    {
     "data": {
      "text/plain": [
       "<matplotlib.collections.PathCollection at 0x117fe5208>"
      ]
     },
     "execution_count": 7,
     "metadata": {},
     "output_type": "execute_result"
    },
    {
     "data": {
      "image/png": "[encoded data removed]",
      "text/plain": [
       "<Figure size 432x288 with 1 Axes>"
      ]
     },
     "metadata": {
      "needs_background": "light"
     },
     "output_type": "display_data"
    }
   ],
   "source": [
    "plt.scatter(np.linspace(0,len(dfFrd)-1 , len(dfFrd)) ,np.log(dfFrd['deaths']) , label = 'Morts')"
   ]
  },
  {
   "cell_type": "markdown",
   "metadata": {},
   "source": [
    "On a un profil expo jusqu'au 30eme jour donc le debut du confinement auquel on ajoute 14 jours pour déclarer des symptomes on tombe sur le 2 avril "
   ]
  },
  {
   "cell_type": "code",
   "execution_count": 246,
   "metadata": {},
   "outputs": [
    {
     "data": {
      "text/plain": [
       "2.506576111421347"
      ]
     },
     "execution_count": 246,
     "metadata": {},
     "output_type": "execute_result"
    }
   ],
   "source": [
    "fitd = lr(range(33) ,np.log(dfFrc['cases'][0:33]))\n",
    "fitd[1]"
   ]
  },
  {
   "cell_type": "code",
   "execution_count": 248,
   "metadata": {},
   "outputs": [
    {
     "data": {
      "image/png": "[encoded data removed]",
      "text/plain": [
       "<Figure size 432x288 with 1 Axes>"
      ]
     },
     "metadata": {
      "needs_background": "light"
     },
     "output_type": "display_data"
    },
    {
     "data": {
      "image/png": "[encoded data removed]",
      "text/plain": [
       "<Figure size 432x288 with 1 Axes>"
      ]
     },
     "metadata": {
      "needs_background": "light"
     },
     "output_type": "display_data"
    }
   ],
   "source": [
    "fig1, ax1 = plt.subplots() \n",
    "fig1, ax2 = plt.subplots()\n",
    "ax1.plot(range(33), np.exp(fitd[0]*np.linspace(0,32,33) +fitd[1]), color='C0', label='Model fitted with $\\lambda$ = 0.206 and b = 2.5')\n",
    "ax1.scatter(range(33) ,dfFrc['cases'][0:33] , label = 'Cases data')\n",
    "ax1.legend()\n",
    "ax1.set_xlabel('Time')\n",
    "ax1.set_ylabel('Cases')\n",
    "ax1.grid()\n",
    "ax2.plot(range(33), np.exp(fitd[0]*np.linspace(0,32,33) +fitd[1]), color='C0', label='Model fitted with $\\lambda$ = 0.21 and b = 0.43')\n",
    "ax2.scatter(range(33) ,dfFrc['cases'][0:33] , label = 'Cases data')\n",
    "ax2.legend()\n",
    "ax2.set_yscale('log')\n"
   ]
  },
  {
   "cell_type": "markdown",
   "metadata": {},
   "source": [
    "Nous constatons que le modèle expo est satisfesant bien que sur les 4 dèrniere valeurs nous nous éloignons deja du modèle. "
   ]
  },
  {
   "cell_type": "code",
   "execution_count": 225,
   "metadata": {},
   "outputs": [
    {
     "data": {
      "image/png": "[encoded data removed]",
      "text/plain": [
       "<Figure size 432x288 with 1 Axes>"
      ]
     },
     "metadata": {
      "needs_background": "light"
     },
     "output_type": "display_data"
    },
    {
     "data": {
      "image/png": "[encoded data removed]",
      "text/plain": [
       "<Figure size 432x288 with 1 Axes>"
      ]
     },
     "metadata": {
      "needs_background": "light"
     },
     "output_type": "display_data"
    }
   ],
   "source": [
    "#plt.scatter(np.linspace(0,len(dfFr)-1 , len(dfFr)) ,np.log(dfFrc['cases']) , label = 'Cas')\n",
    "#fitc = lr(range(35) ,np.log(dfFrd['cases'][0:33]))\n",
    "fig1, ax1 = plt.subplots() \n",
    "fig1, ax2 = plt.subplots()\n",
    "ax1.plot(range(33), np.exp(0.19*np.linspace(0,32,3) ), color='C0', label='modèle')\n",
    "ax1.scatter(range(35) ,dfFr['cases'][60:93] , label = 'données réel')\n",
    "ax1.legend()\n",
    "ax1.set_xlabel('Temps')\n",
    "ax1.set_ylabel('Nombre de cas')\n",
    "ax1.grid()\n",
    "ax2.plot(range(35), np.exp(fitc[0]*np.linspace(0,34,35) +fitc[1]), color='C0', label='modèle')\n",
    "ax2.scatter(range(35) ,dfFrd['cases'][0:35] , label = 'données réel')\n",
    "ax2.legend()\n",
    "ax2.set_yscale('log')"
   ]
  },
  {
   "cell_type": "markdown",
   "metadata": {},
   "source": [
    "Le confinement é"
   ]
  },
  {
   "cell_type": "code",
   "execution_count": 11,
   "metadata": {},
   "outputs": [
    {
     "name": "stdout",
     "output_type": "stream",
     "text": [
      "LinregressResult(slope=0.21787620824094456, intercept=0.4329586350250212, rvalue=0.9706216425250707, pvalue=9.675624281581693e-21, stderr=0.009700505592454008) 8\n"
     ]
    }
   ],
   "source": [
    "# recherche du meilleur R2 \n",
    "R2 = 0 \n",
    "\n",
    "for i in range (10):\n",
    "    fitd = lr(range(25+i) ,np.log(dfFrd['deaths'][0:25+i]))\n",
    "    if fitd[2] > abs(R2) : \n",
    "        R2 = fitd[2]\n",
    "        sol=fitd\n",
    "        isol = i\n",
    "        \n",
    "print(sol , isol)"
   ]
  },
  {
   "cell_type": "markdown",
   "metadata": {},
   "source": [
    "# Implementation du SIR "
   ]
  },
  {
   "cell_type": "code",
   "execution_count": 12,
   "metadata": {},
   "outputs": [],
   "source": [
    "# densité initiale de la population\n",
    "i0 = 1/(67*10**6)\n",
    "r0 =0\n",
    "s0=1-(i0+r0)\n",
    "# encapsulation de la densité initiale\n",
    "etat0_cov = np.array([i0,r0,s0])\n",
    "\n",
    "# paramètres du modèle\n",
    "b = 0.31\n",
    "y = 0.09\n",
    "\n",
    "params_cov = np.array([b, y ])\n",
    "\n",
    "t0 = 0.0\n",
    "tf = 150\n",
    "dt = 0.01\n",
    "\n",
    "tspan = np.arange(t0,tf,dt)"
   ]
  },
  {
   "cell_type": "code",
   "execution_count": 13,
   "metadata": {},
   "outputs": [],
   "source": [
    "def covid(etat , t , params) :\n",
    "    i,r,s =etat\n",
    "    b1,y1 = params\n",
    "    sdot= -b1*s*i\n",
    "    idot= b1*s*i - y1*i\n",
    "    rdot= y1*i\n",
    "\n",
    "    return [idot,rdot,sdot]"
   ]
  },
  {
   "cell_type": "code",
   "execution_count": 14,
   "metadata": {},
   "outputs": [],
   "source": [
    "cov = odeint(covid , etat0_cov, tspan, args=(params_cov,))"
   ]
  },
  {
   "cell_type": "code",
   "execution_count": 249,
   "metadata": {},
   "outputs": [
    {
     "data": {
      "image/png": "[encoded data removed]",
      "text/plain": [
       "<Figure size 432x288 with 1 Axes>"
      ]
     },
     "metadata": {
      "needs_background": "light"
     },
     "output_type": "display_data"
    }
   ],
   "source": [
    "fig1, ax1 = plt.subplots() \n",
    "ax1.plot(tspan, cov[:,0], color='C0', label='population $i$')\n",
    "ax1.plot(tspan, cov[:,1], color='C1', label='population $r$')\n",
    "#ax1.plot(tspan, , color='C2', label='population mort')\n",
    "i=0 \n",
    "s=y/b\n",
    "\n",
    "ax1.legend()\n",
    "ax1.set_xlabel('Time')\n",
    "ax1.set_ylabel('Population density')\n",
    "ax1.grid()"
   ]
  },
  {
   "cell_type": "code",
   "execution_count": 16,
   "metadata": {},
   "outputs": [],
   "source": [
    "# densité initiale de la population\n",
    "i0 = 1/(67*10**6)\n",
    "r0 =0\n",
    "s0=1-(i0+r0)\n",
    "# encapsulation de la densité initiale\n",
    "etat0_covc = np.array([i0,r0,s0])\n",
    "\n",
    "# paramètres du modèle\n",
    "b = 0.31\n",
    "y = 0.09\n",
    "c = 0.25\n",
    "\n",
    "params_covc = np.array([b, y ,c])"
   ]
  },
  {
   "cell_type": "code",
   "execution_count": 17,
   "metadata": {},
   "outputs": [],
   "source": [
    "def covidc(etat , t , params) :\n",
    "    i,r,s =etat\n",
    "    b1,y1,c1 = params\n",
    "    sdot= -(1-c)*b1*s*i\n",
    "    idot= (1-c)*b1*s*i - y1*i\n",
    "    rdot= y1*i\n",
    "\n",
    "    return [idot,rdot,sdot]"
   ]
  },
  {
   "cell_type": "code",
   "execution_count": 25,
   "metadata": {},
   "outputs": [],
   "source": [
    "tspann = np.arange(50,90,dt)\n",
    "tspanc = np.arange(90,132,dt)\n",
    "tspanf = np.arange(132,tf,dt)\n",
    "tfi=np.concatenate((tspann,tspanc,tspanf))\n",
    "\n",
    "#covc0 = odeint(covid , etat0_cov, tfi, args=(params_cov,))\n",
    "\n",
    "c=0.9\n",
    "covcn = odeint(covid , etat0_cov, tspann, args=(params_cov,))\n",
    "covcc = odeint(covidc , np.array([covcn[-1,0],covcn[-1,1],covcn[-1,2]]), tspanc, args=(params_covc,))\n",
    "c=0.85\n",
    "covcf = odeint(covidc , np.array([covcc[-1,0],covcc[-1,1],covcc[-1,2]]), tspanf, args=(params_covc,))\n",
    "covc = np.concatenate((covcn , covcc,covcf))"
   ]
  },
  {
   "cell_type": "code",
   "execution_count": 250,
   "metadata": {},
   "outputs": [
    {
     "data": {
      "image/png": "[encoded data removed]",
      "text/plain": [
       "<Figure size 432x288 with 1 Axes>"
      ]
     },
     "metadata": {
      "needs_background": "light"
     },
     "output_type": "display_data"
    }
   ],
   "source": [
    "fig1, ax1 = plt.subplots() \n",
    "ax1.plot(tfi, covc[:,0], color='C3', label='Model with c=0.9 at day 40')\n",
    "plt.scatter(np.linspace(0,len(dfFr_plein)-1 , len(dfFr_plein)) ,dfFr_plein['cases'] * 1/(67*10**6) , label = 'Real cases')\n",
    "ax1.legend()\n",
    "ax1.set_xlabel('Time')\n",
    "ax1.set_ylabel('Population density')\n",
    "ax1.grid()"
   ]
  },
  {
   "cell_type": "code",
   "execution_count": 280,
   "metadata": {},
   "outputs": [],
   "source": [
    "#c en fonction avec 2 stade de deconf \n",
    "def c1(t , tc , tdc ,tdc2 , conf , dconf , dconf2): \n",
    "    if (tdc <= t < tdc2) : \n",
    "        return dconf \n",
    "    if (tc<= t < tdc) :\n",
    "        return conf\n",
    "    if (t>= tdc2) : \n",
    "        return dconf2\n",
    "    return 0\n",
    "def c(t , tc , tdc  , conf , dconf ): \n",
    "    if (tdc <= t ) : \n",
    "        return dconf \n",
    "    if (tc<= t < tdc) :\n",
    "        return conf\n",
    "   \n",
    "    return 0\n",
    "\n"
   ]
  },
  {
   "cell_type": "code",
   "execution_count": 282,
   "metadata": {},
   "outputs": [
    {
     "data": {
      "text/plain": [
       "[<matplotlib.lines.Line2D at 0x11f9fec50>]"
      ]
     },
     "execution_count": 282,
     "metadata": {},
     "output_type": "execute_result"
    },
    {
     "data": {
      "image/png": "[encoded data removed]",
      "text/plain": [
       "<Figure size 432x288 with 1 Axes>"
      ]
     },
     "metadata": {
      "needs_background": "light"
     },
     "output_type": "display_data"
    }
   ],
   "source": [
    "C= []\n",
    "for i in range(151):\n",
    "    C.append(c(i,50 , 100 , 0.9 , 0.7 ))\n",
    "plt.plot(np.linspace(0,150,151) , C)"
   ]
  },
  {
   "cell_type": "code",
   "execution_count": 31,
   "metadata": {},
   "outputs": [],
   "source": [
    "def numjouran(d): \n",
    "    j, m, a = d\n",
    "    if ((a%4==0 and a%100!=0) or a%400==0):  \n",
    "        return (0,31,60,91,121,152,182,213,244,274,305,335,366)[m-1] + j\n",
    "    else:\n",
    "        return (0,31,59,90,120,151,181,212,243,273,304,334,365)[m-1] + j"
   ]
  },
  {
   "cell_type": "code",
   "execution_count": 283,
   "metadata": {},
   "outputs": [],
   "source": [
    "def E(x) : \n",
    "    b , y , conf , deconf  = x # ajouteer deconf2\n",
    "    tspan = np.arange(50,len(dfFr_plein),1)\n",
    "    tc=90 \n",
    "    tdc = 130\n",
    "    #tdc2 = 148 # A decommenter quand on aura assez de données \n",
    "\n",
    "    # Modèle SIR avec les bon paramètre initiaux \n",
    "    def covidc2(etat , t , params ) :\n",
    "        i,r,s =etat\n",
    "        b1,y1 = params\n",
    "        sdot= -(1-c(t,tc , tdc , conf , deconf))*b1*s*i  # Ici utiliser c1 \n",
    "        idot= (1-c(t,tc , tdc , conf , deconf))*b1*s*i - y1*i\n",
    "        rdot= y1*i\n",
    "\n",
    "        return [idot,rdot,sdot]\n",
    "    S=0\n",
    "    covcc=odeint(covidc2 , etat0_cov, tspan, args=([b,y],)) # Calcul du modèle \n",
    "    debut = np.zeros((50))\n",
    "    cov = np.concatenate((debut , covcc[:,0]))\n",
    "    \n",
    "    for i in range(len(Ytrain)-1) :\n",
    "        i+=1\n",
    "        date =[]\n",
    "        date.append(Ytrain.iat[i,1])\n",
    "        date.append(Ytrain.iat[i,2])\n",
    "        date.append(Ytrain.iat[i,3])\n",
    "        tempsi = numjouran(date) # choix de la bonne dat epour coincider avec Ytrain \n",
    "        \n",
    "        S += np.linalg.norm(cov[tempsi] - Ytrain.iat[i,4] * 1/(67*10**6)) # Erreur du modèle \n",
    "    return S"
   ]
  },
  {
   "cell_type": "code",
   "execution_count": 42,
   "metadata": {},
   "outputs": [],
   "source": [
    "Ytrain , Ytest = train_test_split(dfFr,test_size=0.3)\n",
    "\n",
    "Ytrain = Ytrain.sort_values(by=['year','month','day'])\n",
    "Ytest = Ytest.sort_values(by=['year','month','day'])"
   ]
  },
  {
   "cell_type": "code",
   "execution_count": 148,
   "metadata": {},
   "outputs": [
    {
     "name": "stdout",
     "output_type": "stream",
     "text": [
      "1 [ 0.0590289  -0.07335221 -0.00508837 -0.00040778]\n",
      "0.05902889732274739 -0.07335221101351228 -0.005088367978215488 -0.0004077755983897778\n"
     ]
    }
   ],
   "source": [
    "h = 1e-6\n",
    "gradB = (E([0.31 + h ,0.09,0.9,0.75 ]) - E([0.31 -h  ,0.09,0.9,0.75])) / (2*h)\n",
    "gradY = (E([0.31  ,0.09 +h,0.9,0.75]) - E([0.31  ,0.09-h,0.9,0.75])) / (2*h)\n",
    "gradConf = (E([0.31  ,0.09,0.9 +h,0.75]) - E([0.31  ,0.09,0.9-h,0.75])) / (2*h)\n",
    "gradDeconf =(E([0.31  ,0.09,0.9,0.75 + h]) - E([0.31  ,0.09,0.9,0.75-h])) / (2*h)\n",
    "\n",
    "def grad(x):\n",
    "    b , y , conf , deconf = x \n",
    "    gradB = (E([b + h , y ,conf ,deconf ]) - E([b -h ,y ,conf , deconf])) / (2*h)\n",
    "    gradY = (E([b ,y + h ,conf , deconf]) - E([b ,y-h ,conf , deconf])) / (2*h)\n",
    "    gradConf = (E([b ,y ,conf + h , deconf]) - E([b ,y ,conf-h , deconf])) / (2*h)\n",
    "    gradDeconf =(E([b ,y ,conf , deconf + h]) - E([b ,y ,conf , deconf-h])) / (2*h)\n",
    "    return np.array([gradB ,gradY ,gradConf ,gradDeconf])\n",
    "\n",
    "print( 1, grad([0.31 , 0.09 , 0.9 , 0.75]))\n",
    "print(gradB , gradY , gradConf , gradDeconf)\n"
   ]
  },
  {
   "cell_type": "code",
   "execution_count": 96,
   "metadata": {},
   "outputs": [
    {
     "name": "stdout",
     "output_type": "stream",
     "text": [
      "Optimization terminated successfully.\n",
      "         Current function value: 0.000517\n",
      "         Iterations: 256\n",
      "         Function evaluations: 496\n"
     ]
    }
   ],
   "source": [
    "x0 = np.array([0.3,0.09,0.9,0.75])\n",
    "res = minimize(E, x0 ,method='nelder-mead'\n",
    "                ,options={'xatol': 1e-6, 'disp': True})"
   ]
  },
  {
   "cell_type": "code",
   "execution_count": 97,
   "metadata": {},
   "outputs": [
    {
     "data": {
      "text/plain": [
       "array([0.30441123, 0.09132288, 0.88227966, 0.78085892])"
      ]
     },
     "execution_count": 97,
     "metadata": {},
     "output_type": "execute_result"
    }
   ],
   "source": [
    "res.x"
   ]
  },
  {
   "cell_type": "code",
   "execution_count": 256,
   "metadata": {},
   "outputs": [
    {
     "data": {
      "text/plain": [
       "Text(0, 0.5, 'Cases')"
      ]
     },
     "execution_count": 256,
     "metadata": {},
     "output_type": "execute_result"
    },
    {
     "data": {
      "image/png": "[encoded data removed]",
      "text/plain": [
       "<Figure size 432x288 with 1 Axes>"
      ]
     },
     "metadata": {
      "needs_background": "light"
     },
     "output_type": "display_data"
    }
   ],
   "source": [
    "tc = 90\n",
    "tdc = 130\n",
    "conf = res.x[2]\n",
    "dconf = res.x[3]\n",
    "def covidc1(etat , t , params ) :\n",
    "    i,r,s =etat\n",
    "    b1,y1 = params\n",
    "    sdot= -(1-c(t,tc , tdc , conf , dconf))*b1*s*i    \n",
    "    idot= (1-c(t,tc , tdc , conf , dconf))*b1*s*i - y1*i\n",
    "    rdot= y1*i\n",
    "\n",
    "    return [idot,rdot,sdot]\n",
    "tspannn = np.arange(50,len(dfFr_plein),1)\n",
    "covcc=odeint(covidc1 , etat0_cov, tspannn, args=([res.x[0],res.x[1]],))\n",
    "plt.plot(tspannn, covcc[:,0], color='C3', label='modele with Nelder-Mead')\n",
    "plt.scatter(np.linspace(0,len(dfFr_plein)-1 , len(dfFr_plein)) ,dfFr_plein['cases'] * 1/(67*10**6) , label = 'Real cases')\n",
    "plt.legend(loc = 'upper left')\n",
    "plt.xlabel('Time')\n",
    "plt.ylabel('Cases')"
   ]
  },
  {
   "cell_type": "code",
   "execution_count": 149,
   "metadata": {},
   "outputs": [
    {
     "name": "stdout",
     "output_type": "stream",
     "text": [
      "Warning: Desired error not necessarily achieved due to precision loss.\n",
      "         Current function value: 0.000539\n",
      "         Iterations: 5\n",
      "         Function evaluations: 87\n",
      "         Gradient evaluations: 77\n"
     ]
    }
   ],
   "source": [
    "res1 = minimize(E, x0, method='BFGS', jac=grad ,options={'disp': True})"
   ]
  },
  {
   "cell_type": "code",
   "execution_count": 150,
   "metadata": {},
   "outputs": [
    {
     "data": {
      "text/plain": [
       "array([0.29350294, 0.08351316, 0.89545332, 0.7505262 ])"
      ]
     },
     "execution_count": 150,
     "metadata": {},
     "output_type": "execute_result"
    }
   ],
   "source": [
    "res1.x"
   ]
  },
  {
   "cell_type": "code",
   "execution_count": 257,
   "metadata": {},
   "outputs": [
    {
     "data": {
      "text/plain": [
       "Text(0, 0.5, 'Cases')"
      ]
     },
     "execution_count": 257,
     "metadata": {},
     "output_type": "execute_result"
    },
    {
     "data": {
      "image/png": "[encoded data removed]",
      "text/plain": [
       "<Figure size 432x288 with 1 Axes>"
      ]
     },
     "metadata": {
      "needs_background": "light"
     },
     "output_type": "display_data"
    }
   ],
   "source": [
    "tc = 90\n",
    "tdc = 130\n",
    "conf = res1.x[2]\n",
    "dconf = res1.x[3]\n",
    "def covidc1(etat , t , params ) :\n",
    "    i,r,s =etat\n",
    "    b1,y1 = params\n",
    "    sdot= -(1-c(t,tc , tdc , conf , dconf))*b1*s*i\n",
    "    idot= (1-c(t,tc , tdc , conf , dconf))*b1*s*i - y1*i\n",
    "    rdot= y1*i\n",
    "\n",
    "    return [idot,rdot,sdot]\n",
    "tspannn = np.arange(50,len(dfFr_plein),1)\n",
    "covcc=odeint(covidc1 , etat0_cov, tspannn, args=([res1.x[0],res1.x[1]],))\n",
    "plt.plot(tspannn, covcc[:,0], color='C3', label='modele with BFGS params')\n",
    "plt.scatter(np.linspace(0,len(dfFr_plein)-1 , len(dfFr_plein)) ,dfFr_plein['cases'] * 1/(67*10**6) , label = 'Real cases')\n",
    "plt.legend(loc = 'upper left')\n",
    "plt.xlabel('Time')\n",
    "plt.ylabel('Cases')"
   ]
  },
  {
   "cell_type": "code",
   "execution_count": 261,
   "metadata": {},
   "outputs": [
    {
     "name": "stdout",
     "output_type": "stream",
     "text": [
      "Pourcentage d'erreur a 1e-6 :  45.65217391304348\n",
      "Pourcentage d'erreur a 1e-5 :  17.391304347826086\n",
      "Pourcentage d'erreur a 1e-4 :  0.0\n"
     ]
    }
   ],
   "source": [
    "# Erreur de prediction : \n",
    "def Erreur(mod , Ytest , eps) : \n",
    "    S=0\n",
    "    debut = np.zeros((50))\n",
    "    cov = np.concatenate((debut , mod[:,0]))\n",
    "    for i in range(len(Ytest)-1) :\n",
    "        i+=1\n",
    "        date =[]\n",
    "        date.append(Ytest.iat[i,1])\n",
    "        date.append(Ytest.iat[i,2])\n",
    "        date.append(Ytest.iat[i,3])\n",
    "        tempsi = numjouran(date) # choix de la bonne dat epour coincider avec Ytrain \n",
    "        \n",
    "        err = np.linalg.norm(cov[tempsi] - Ytest.iat[i,4] * 1/(67*10**6)) # Erreur du modèle \n",
    "        \n",
    "        if (err > eps) : \n",
    "            S+= 1\n",
    "    return S\n",
    "print ('Pourcentage d\\'erreur a 1e-6 : ' ,(Erreur(covcc , Ytest , 1e-6)/len(Ytest) )*100)\n",
    "print ('Pourcentage d\\'erreur a 1e-5 : ' ,(Erreur(covcc , Ytest , 1e-5)/len(Ytest) )*100)\n",
    "print ('Pourcentage d\\'erreur a 1e-4 : ' ,(Erreur(covcc , Ytest , 1e-3)/len(Ytest) )*100)"
   ]
  },
  {
   "cell_type": "code",
   "execution_count": 112,
   "metadata": {},
   "outputs": [],
   "source": [
    "def pas(d1 , D1 , rho , u1 , J ) : \n",
    "    return (1/2) * np.sum(d1*D1)*rho**2 / (np.sum(d1*D1)*rho + J(u1) - J(u1+rho*d1))"
   ]
  },
  {
   "cell_type": "code",
   "execution_count": 188,
   "metadata": {},
   "outputs": [],
   "source": [
    "def DY(eps , Kmax , u0 , J , D ):\n",
    "    N= len(u0)\n",
    "    grad = D(u0)\n",
    "    d0 = -grad\n",
    "    S = np.zeros(Kmax)\n",
    "    rho = 0.0104\n",
    "\n",
    "    i=0\n",
    "    while (i<Kmax and np.linalg.norm(d0)>eps) :\n",
    "        u1 = u0 + rho*d0\n",
    "        beta = np.dot(np.transpose(D(u1)),D(u1))/(np.dot(np.transpose(D(u1)-grad),d0)) \n",
    "        d1 = -D(u1) + beta*d0       \n",
    "        rho = pas(d1 , D(u1), rho , u1, J )\n",
    "        \n",
    "        u0 = u1\n",
    "        d0 = d1\n",
    "        J0 = J(u1)\n",
    "        grad = D(u1)\n",
    "        S[i]=J0\n",
    "        i+=1\n",
    "    print( 'DY', i)\n",
    "   # print( 'u = ',u0)\n",
    "    return u0"
   ]
  },
  {
   "cell_type": "code",
   "execution_count": 190,
   "metadata": {},
   "outputs": [
    {
     "name": "stdout",
     "output_type": "stream",
     "text": [
      "DY 69\n"
     ]
    }
   ],
   "source": [
    "x0 = np.array([0.3,0.09,0.9,0.75])\n",
    "res2 =DY(1e-3 , 1500 , x0 , E , grad )"
   ]
  },
  {
   "cell_type": "code",
   "execution_count": 279,
   "metadata": {},
   "outputs": [
    {
     "data": {
      "text/plain": [
       "Text(0, 0.5, 'Cases')"
      ]
     },
     "execution_count": 279,
     "metadata": {},
     "output_type": "execute_result"
    },
    {
     "data": {
      "image/png": "[encoded data removed]",
      "text/plain": [
       "<Figure size 432x288 with 1 Axes>"
      ]
     },
     "metadata": {
      "needs_background": "light"
     },
     "output_type": "display_data"
    }
   ],
   "source": [
    "tc = 90\n",
    "tdc = 130\n",
    "tdc2 = 150\n",
    "conf = res2[2]\n",
    "dconf = res2[3]\n",
    "dconf2 = 0.70\n",
    "def covidc1(etat , t , params ) :\n",
    "    i,r,s =etat\n",
    "    b1,y1 = params\n",
    "    sdot= -(1-c1(t,tc , tdc ,tdc2, conf , dconf , dconf2))*b1*s*i   ## remettre c si c'est pas a but predictif \n",
    "    idot= (1-c1(t,tc , tdc ,tdc2, conf , dconf , dconf2))*b1*s*i - y1*i\n",
    "    rdot= y1*i\n",
    "\n",
    "    return [idot,rdot,sdot]\n",
    "tspannn = np.arange(50,len(dfFr_plein)+30,1)\n",
    "covcc=odeint(covidc1 , etat0_cov, tspannn, args=([res2[0],res2[1]],))\n",
    "plt.plot(tspannn, covcc[:,0], color='C3', label='Model ')\n",
    "plt.scatter(np.linspace(0,len(dfFr_plein)-1 , len(dfFr_plein)) ,dfFr_plein['cases'] * 1/(67*10**6) , label = 'Real cases')\n",
    "plt.legend(loc = 'upper left')\n",
    "plt.xlabel('Time')\n",
    "plt.ylabel('Cases')"
   ]
  },
  {
   "cell_type": "code",
   "execution_count": 197,
   "metadata": {},
   "outputs": [
    {
     "name": "stdout",
     "output_type": "stream",
     "text": [
      "[0.30441123 0.09132288 0.88227966 0.78085892] nm\n",
      "[0.29350294 0.08351316 0.89545332 0.7505262 ] BFGS\n",
      "[0.3187771  0.10055373 0.88916335 0.77396615] DY\n"
     ]
    }
   ],
   "source": [
    "print(res.x , 'nm')\n",
    "print(res1.x , 'BFGS')\n",
    "print(res2 , 'DY')"
   ]
  },
  {
   "cell_type": "code",
   "execution_count": null,
   "metadata": {},
   "outputs": [],
   "source": []
  }
 ],
 "metadata": {
  "kernelspec": {
   "display_name": "Python 3",
   "language": "python",
   "name": "python3"
  },
  "language_info": {
   "codemirror_mode": {
    "name": "ipython",
    "version": 3
   },
   "file_extension": ".py",
   "mimetype": "text/x-python",
   "name": "python",
   "nbconvert_exporter": "python",
   "pygments_lexer": "ipython3",
   "version": "3.7.2"
  }
 },
 "nbformat": 4,
 "nbformat_minor": 2
}
